{
  "cells": [
    {
      "cell_type": "markdown",
      "metadata": {
        "id": "view-in-github",
        "colab_type": "text"
      },
      "source": [
        "<a href=\"https://colab.research.google.com/github/dengathitu/Numpy-Sorting/blob/main/Sorting.ipynb\" target=\"_parent\"><img src=\"https://colab.research.google.com/assets/colab-badge.svg\" alt=\"Open In Colab\"/></a>"
      ]
    },
    {
      "cell_type": "code",
      "execution_count": null,
      "id": "2663015c-f883-48ff-96b3-c1685eca5a5f",
      "metadata": {
        "execution": {
          "iopub.execute_input": "2025-06-14T04:12:11.287789Z",
          "iopub.status.busy": "2025-06-14T04:12:11.287436Z",
          "iopub.status.idle": "2025-06-14T04:12:11.366374Z",
          "shell.execute_reply": "2025-06-14T04:12:11.365710Z",
          "shell.execute_reply.started": "2025-06-14T04:12:11.287766Z"
        },
        "id": "2663015c-f883-48ff-96b3-c1685eca5a5f"
      },
      "outputs": [],
      "source": [
        "import numpy as np"
      ]
    },
    {
      "cell_type": "code",
      "execution_count": null,
      "id": "05ae2ede-d2ca-4c1e-9c27-534b875f1631",
      "metadata": {
        "execution": {
          "iopub.execute_input": "2025-06-14T04:29:56.475871Z",
          "iopub.status.busy": "2025-06-14T04:29:56.475284Z",
          "iopub.status.idle": "2025-06-14T04:29:56.479437Z",
          "shell.execute_reply": "2025-06-14T04:29:56.478731Z",
          "shell.execute_reply.started": "2025-06-14T04:29:56.475849Z"
        },
        "id": "05ae2ede-d2ca-4c1e-9c27-534b875f1631"
      },
      "outputs": [],
      "source": [
        "data_type = [('name', 'S15'), ('class', int), ('height', float)]\n",
        "students_details = [('James', 5, 48.5), ('Nail', 6, 52.5), ('Paul', 5, 42.10), ('Pit', 5, 40.11)]"
      ]
    },
    {
      "cell_type": "code",
      "execution_count": null,
      "id": "985690b7-78eb-412d-8dba-c4622a4bc5df",
      "metadata": {
        "id": "985690b7-78eb-412d-8dba-c4622a4bc5df"
      },
      "outputs": [],
      "source": [
        "#create a structured array"
      ]
    },
    {
      "cell_type": "code",
      "execution_count": null,
      "id": "39554136-ec72-48db-9a8d-f91434ec124b",
      "metadata": {
        "execution": {
          "iopub.execute_input": "2025-06-14T04:30:19.255265Z",
          "iopub.status.busy": "2025-06-14T04:30:19.254913Z",
          "iopub.status.idle": "2025-06-14T04:30:19.260082Z",
          "shell.execute_reply": "2025-06-14T04:30:19.259458Z",
          "shell.execute_reply.started": "2025-06-14T04:30:19.255241Z"
        },
        "id": "39554136-ec72-48db-9a8d-f91434ec124b",
        "outputId": "9f33c99a-45b5-4c37-dc0c-7d8ebcfb066a"
      },
      "outputs": [
        {
          "name": "stdout",
          "output_type": "stream",
          "text": [
            "Öriginal array:\n",
            "[(b'James', 5, 48.5 ) (b'Nail', 6, 52.5 ) (b'Paul', 5, 42.1 )\n",
            " (b'Pit', 5, 40.11)]\n",
            "Sort by height\n",
            "[(b'Pit', 5, 40.11) (b'Paul', 5, 42.1 ) (b'James', 5, 48.5 )\n",
            " (b'Nail', 6, 52.5 )]\n"
          ]
        }
      ],
      "source": [
        "students=np.array(students_details, dtype=data_type)\n",
        "print(\"Öriginal array:\")\n",
        "print(students)\n",
        "print(\"Sort by height\")\n",
        "print(np.sort(students,order='height'))"
      ]
    },
    {
      "cell_type": "code",
      "execution_count": null,
      "id": "04553ac0-d985-48ec-a6fa-11e1394ac5bf",
      "metadata": {
        "id": "04553ac0-d985-48ec-a6fa-11e1394ac5bf"
      },
      "outputs": [],
      "source": []
    }
  ],
  "metadata": {
    "kernelspec": {
      "display_name": "anaconda-2024.02-py310",
      "language": "python",
      "name": "conda-env-anaconda-2024.02-py310-py"
    },
    "language_info": {
      "codemirror_mode": {
        "name": "ipython",
        "version": 3
      },
      "file_extension": ".py",
      "mimetype": "text/x-python",
      "name": "python",
      "nbconvert_exporter": "python",
      "pygments_lexer": "ipython3",
      "version": "3.10.14"
    },
    "colab": {
      "provenance": [],
      "include_colab_link": true
    }
  },
  "nbformat": 4,
  "nbformat_minor": 5
}